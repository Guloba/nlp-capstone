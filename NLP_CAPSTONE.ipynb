{
  "cells": [
    {
      "cell_type": "markdown",
      "metadata": {
        "id": "054SaemLiQbJ"
      },
      "source": [
        "# 1. Dataset Preparation"
      ]
    },
    {
      "cell_type": "code",
      "execution_count": null,
      "metadata": {
        "id": "n5cySrOSiUNE"
      },
      "outputs": [],
      "source": [
        "%pip install datasets"
      ]
    },
    {
      "cell_type": "code",
      "execution_count": null,
      "metadata": {
        "id": "X0lYBJZIimVg"
      },
      "outputs": [],
      "source": [
        "# Loading and Exploring the Dataset\n",
        "\n",
        "from datasets import load_dataset\n",
        "\n",
        "# Load the Sunbird SALT dataset\n",
        "dataset = load_dataset('Sunbird/salt-dataset')\n",
        "\n",
        "# Explore the dataset's structure\n",
        "print(dataset)\n",
        "print(dataset['train'].features)  # Display dataset features\n",
        "print(len(dataset['train']))      # Display number of examples in the training set\n"
      ]
    },
    {
      "cell_type": "code",
      "execution_count": null,
      "metadata": {
        "id": "l78X82rMlMrn"
      },
      "outputs": [],
      "source": [
        "# Preprocessing Text Data for the Entire Dataset\n",
        "\n",
        "import json\n",
        "import re\n",
        "import string\n",
        "\n",
        "def preprocess_text(text):\n",
        "    # Remove unwanted characters, such as punctuation and special symbols\n",
        "    text = re.sub(r'[^\\w\\s]', '', text)\n",
        "\n",
        "    # Convert text to lowercase\n",
        "    text = text.lower()\n",
        "\n",
        "    # Split text into word-like units (tokens)\n",
        "    tokens = text.split()\n",
        "\n",
        "    return tokens\n",
        "\n",
        "# Initialize lists to store preprocessed texts\n",
        "clean_english_texts = []\n",
        "clean_luganda_texts = []\n",
        "\n",
        "# Loop through all examples in the training set\n",
        "for example in dataset['train']:\n",
        "    # Parse the JSON string in the 'text' field\n",
        "    text_data = json.loads(example['text'])\n",
        "\n",
        "    # Check for 'English' and 'Luganda' keys in the parsed text data\n",
        "    if 'English' in text_data and 'Luganda' in text_data:\n",
        "        english_text = text_data['English']\n",
        "        luganda_text = text_data['Luganda']\n",
        "\n",
        "        # Preprocess the English and Luganda texts\n",
        "        clean_english_text = preprocess_text(english_text)\n",
        "        clean_luganda_text = preprocess_text(luganda_text)\n",
        "\n",
        "        # Append preprocessed texts to the respective lists\n",
        "        clean_english_texts.append(clean_english_text)\n",
        "        clean_luganda_texts.append(clean_luganda_text)\n",
        "\n",
        "# Display the preprocessed texts for a few examples\n",
        "for i in range(5):\n",
        "    print(\"Example\", i+1)\n",
        "    print(\"Clean English Text:\", clean_english_texts[i])\n",
        "    print(\"Clean Luganda Text:\", clean_luganda_texts[i])\n",
        "    print()\n"
      ]
    },
    {
      "cell_type": "markdown",
      "metadata": {
        "id": "1r4lGVG9l7DM"
      },
      "source": [
        "# 2. Model Architecture"
      ]
    },
    {
      "cell_type": "code",
      "execution_count": null,
      "metadata": {
        "id": "Kiahycu5m7Kc"
      },
      "outputs": [],
      "source": [
        "from transformers import AutoTokenizer, AutoModelForSeq2SeqLM\n",
        "\n",
        "model_name = \"michaeltendo/luganda\"\n",
        "tokenizer = AutoTokenizer.from_pretrained(model_name)\n",
        "model = AutoModelForSeq2SeqLM.from_pretrained(model_name)\n",
        "\n",
        "# Example translation\n",
        "english_text = \"I am a boy\"\n",
        "input_ids = tokenizer(luganda_text, return_tensors=\"pt\")[\"input_ids\"]\n",
        "outputs = model.generate(input_ids)\n",
        "luganda_translation = tokenizer.decode(outputs[0], skip_special_tokens=True)\n",
        "\n",
        "print(\"Luganda Text:\", english_text)\n",
        "print(\"English Translation:\", luganda_translation)\n"
      ]
    },
    {
      "cell_type": "markdown",
      "metadata": {
        "id": "oCmRNhi4nUex"
      },
      "source": [
        "# 3. Model Training"
      ]
    },
    {
      "cell_type": "code",
      "execution_count": 3,
      "metadata": {
        "id": "15ygYvS5nZcu"
      },
      "outputs": [],
      "source": [
        "# Dataset Preparation\n",
        "\n",
        "from sklearn.model_selection import train_test_split\n",
        "\n",
        "# Luganda-English pairs stored in lists `clean_luganda_texts` and `clean_english_texts`\n",
        "luganda_train, luganda_val, english_train, english_val = train_test_split(\n",
        "    clean_luganda_texts, clean_english_texts, test_size=0.1, random_state=42\n",
        ")\n",
        "\n",
        "# Further split validation set into validation and test sets\n",
        "luganda_val, luganda_test, english_val, english_test = train_test_split(\n",
        "    luganda_val, english_val, test_size=0.5, random_state=42\n",
        ")\n"
      ]
    },
    {
      "cell_type": "code",
      "execution_count": 20,
      "metadata": {
        "colab": {
          "base_uri": "https://localhost:8080/"
        },
        "id": "3XHPt0uvwfrk",
        "outputId": "190d9bad-baba-4f35-bde0-29d46883f58e"
      },
      "outputs": [
        {
          "name": "stdout",
          "output_type": "stream",
          "text": [
            "Sample from Training dataset:\n",
            "Luganda Text: Ellipsis\n",
            "English Translation: Ellipsis\n",
            "\n",
            "Sample from Validation dataset:\n",
            "Luganda Text: Ellipsis\n",
            "English Translation: Ellipsis\n",
            "\n",
            "Sample from Test dataset:\n",
            "Luganda Text: ['ku', 'mwoleso', 'gwengoye', 'abantu', 'boolesa', 'emisono', 'gyabwe', 'emipya']\n",
            "English Translation: ['at', 'the', 'fashion', 'show', 'people', 'design', 'clothes', 'and', 'showcase', 'their', 'new', 'designs']\n",
            "\n"
          ]
        }
      ],
      "source": [
        "# Print a few samples from each dataset\n",
        "def print_samples(dataset_name, luganda_texts, english_texts, num_samples=1):\n",
        "    print(f\"Sample from {dataset_name} dataset:\")\n",
        "    for i in range(num_samples):\n",
        "        print(f\"Luganda Text: {luganda_texts[i]}\")\n",
        "        print(f\"English Translation: {english_texts[i]}\")\n",
        "        print(\"\")\n",
        "\n",
        "# Print samples from training dataset\n",
        "print_samples(\"Training\", luganda_train, english_train)\n",
        "\n",
        "# Print samples from validation dataset\n",
        "print_samples(\"Validation\", luganda_val, english_val)\n",
        "\n",
        "# Print samples from test dataset\n",
        "print_samples(\"Test\", luganda_test, english_test)\n"
      ]
    },
    {
      "cell_type": "code",
      "execution_count": null,
      "metadata": {
        "id": "YAgpQh5RmGR2"
      },
      "outputs": [],
      "source": [
        "%pip install sacremoses"
      ]
    },
    {
      "cell_type": "code",
      "execution_count": 6,
      "metadata": {
        "colab": {
          "base_uri": "https://localhost:8080/"
        },
        "id": "LG3qaMteoUgf",
        "outputId": "353b451b-b534-4336-ef81-7269e25e9986"
      },
      "outputs": [
        {
          "name": "stderr",
          "output_type": "stream",
          "text": [
            "/usr/local/lib/python3.10/dist-packages/huggingface_hub/file_download.py:1132: FutureWarning: `resume_download` is deprecated and will be removed in version 1.0.0. Downloads always resume when possible. If you want to force a new download, use `force_download=True`.\n",
            "  warnings.warn(\n"
          ]
        }
      ],
      "source": [
        "# Define Training Hyperparameters\n",
        "\n",
        "from transformers import AutoTokenizer, AutoModelForSeq2SeqLM\n",
        "from torch.utils.data import DataLoader\n",
        "from torch.optim import Adam\n",
        "\n",
        "# Hyperparameters\n",
        "learning_rate = 0.001\n",
        "batch_size = 32\n",
        "num_epochs = 10\n",
        "\n",
        "# Initialize model and tokenizer\n",
        "model_name = \"michaeltendo/luganda\"\n",
        "tokenizer = AutoTokenizer.from_pretrained(model_name)\n",
        "model = AutoModelForSeq2SeqLM.from_pretrained(model_name)\n",
        "\n",
        "# Define optimizer\n",
        "optimizer = Adam(model.parameters(), lr=learning_rate)\n"
      ]
    },
    {
      "cell_type": "code",
      "execution_count": null,
      "metadata": {
        "id": "qjHn77NkREzJ"
      },
      "outputs": [],
      "source": [
        "from tqdm import tqdm\n",
        "import torch\n",
        "from torch.utils.data import DataLoader\n",
        "from transformers import AutoTokenizer, AutoModelForSeq2SeqLM\n",
        "\n",
        "device = torch.device(\"cuda\" if torch.cuda.is_available() else \"cpu\")\n",
        "\n",
        "# Assuming you have defined a custom dataset class, let's call it TranslationDataset\n",
        "class TranslationDataset(torch.utils.data.Dataset):\n",
        "    def __init__(self, english_texts, luganda_texts, tokenizer, max_length=128):\n",
        "        self.english_texts = english_texts\n",
        "        self.luganda_texts = luganda_texts\n",
        "        self.tokenizer = tokenizer\n",
        "        self.max_length = max_length\n",
        "\n",
        "    def __len__(self):\n",
        "        return len(self.english_texts)\n",
        "\n",
        "    def __getitem__(self, idx):\n",
        "        english_text = self.english_texts[idx]\n",
        "        luganda_text = self.luganda_texts[idx]\n",
        "\n",
        "        # Tokenize inputs and labels for the model\n",
        "        inputs = self.tokenizer(\n",
        "            english_text,\n",
        "            text_pair=luganda_text,\n",
        "            max_length=self.max_length,\n",
        "            padding=\"max_length\",\n",
        "            truncation=True,\n",
        "            return_tensors=\"pt\",\n",
        "            return_attention_mask=True,\n",
        "            add_special_tokens=True\n",
        "        )\n",
        "\n",
        "        return {\n",
        "            \"input_ids\": inputs[\"input_ids\"].squeeze(),\n",
        "            \"attention_mask\": inputs[\"attention_mask\"].squeeze(),\n",
        "            \"labels\": inputs[\"input_ids\"].squeeze(),  # Labels are the same as inputs for seq2seq\n",
        "            \"labels_attention_mask\": inputs[\"attention_mask\"].squeeze()\n",
        "        }\n",
        "\n",
        "\n",
        "# Prepare datasets with aligned texts\n",
        "luganda_train = [...]  # List of Luganda texts\n",
        "english_train = [...]  # List of corresponding English translations\n",
        "\n",
        "# Create tokenizer and model\n",
        "model_name = \"michaeltendo/luganda\"\n",
        "tokenizer = AutoTokenizer.from_pretrained(model_name)\n",
        "model = AutoModelForSeq2SeqLM.from_pretrained(model_name)\n",
        "\n",
        "# Create training dataset\n",
        "train_dataset = TranslationDataset(english_train, luganda_train, tokenizer)\n",
        "\n",
        "# DataLoader parameters\n",
        "batch_size = 8\n",
        "num_epochs = 5\n",
        "optimizer = torch.optim.Adam(model.parameters(), lr=5e-5)\n",
        "\n",
        "# Training loop\n",
        "train_loader = DataLoader(train_dataset, batch_size=batch_size, shuffle=True)\n",
        "\n",
        "for epoch in range(num_epochs):\n",
        "    model.train()\n",
        "    total_loss = 0.0\n",
        "\n",
        "    for batch in tqdm(train_loader, desc=f\"Epoch {epoch + 1}\"):\n",
        "        # Move batch to device\n",
        "        input_ids = batch[\"input_ids\"].to(device)\n",
        "        attention_mask = batch[\"attention_mask\"].to(device)\n",
        "        labels = batch[\"labels\"].to(device)\n",
        "        labels_attention_mask = batch[\"labels_attention_mask\"].to(device)\n",
        "\n",
        "        # Forward pass\n",
        "        outputs = model(input_ids=input_ids, attention_mask=attention_mask, labels=labels, decoder_attention_mask=labels_attention_mask)\n",
        "        loss = outputs.loss\n",
        "\n",
        "        # Backward pass\n",
        "        optimizer.zero_grad()\n",
        "        loss.backward()\n",
        "        optimizer.step()\n",
        "\n",
        "        total_loss += loss.item()\n",
        "\n",
        "    # Calculate average loss for the epoch\n",
        "    avg_loss = total_loss / len(train_loader)\n",
        "    print(f\"Epoch {epoch + 1}, Avg. Loss: {avg_loss:.4f}\")\n",
        "\n",
        "    # Validation\n",
        "    model.eval()\n",
        "    # Evaluate on validation set (similar to training loop)\n",
        "    # Monitor metrics and prevent overfitting\n"
      ]
    }
  ],
  "metadata": {
    "colab": {
      "provenance": []
    },
    "kernelspec": {
      "display_name": "Python 3",
      "name": "python3"
    },
    "language_info": {
      "codemirror_mode": {
        "name": "ipython",
        "version": 3
      },
      "file_extension": ".py",
      "mimetype": "text/x-python",
      "name": "python",
      "nbconvert_exporter": "python",
      "pygments_lexer": "ipython3",
      "version": "3.11.4"
    }
  },
  "nbformat": 4,
  "nbformat_minor": 0
}
